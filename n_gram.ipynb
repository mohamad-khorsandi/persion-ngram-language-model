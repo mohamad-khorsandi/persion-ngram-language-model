{
 "cells": [
  {
   "cell_type": "code",
   "execution_count": 2,
   "metadata": {},
   "outputs": [
    {
     "name": "stderr",
     "output_type": "stream",
     "text": [
      "None of PyTorch, TensorFlow >= 2.0, or Flax have been found. Models won't be available and only tokenizers, configuration and file/data utilities can be used.\n"
     ]
    }
   ],
   "source": [
    "from corpus import Corpus"
   ]
  },
  {
   "cell_type": "code",
   "execution_count": 3,
   "metadata": {},
   "outputs": [
    {
     "data": {
      "text/plain": [
       "['<',\n",
       " '/',\n",
       " 's>نسبت',\n",
       " 'به',\n",
       " 'قیمتش',\n",
       " 'ارزش',\n",
       " 'خرید',\n",
       " 'داره',\n",
       " 'جاداره',\n",
       " 'طراحیش',\n",
       " 'قشنگه',\n",
       " 'تنها',\n",
       " 'مشکلش',\n",
       " 'بندهای',\n",
       " 'ضعیفش',\n",
       " 'هست',\n",
       " 'که',\n",
       " 'باعث',\n",
       " 'میشه',\n",
       " 'استحکام',\n",
       " 'چندانی',\n",
       " 'نداشنه',\n",
       " 'باشه<s><s>']"
      ]
     },
     "execution_count": 3,
     "metadata": {},
     "output_type": "execute_result"
    }
   ],
   "source": [
    "c = Corpus(\"digikala_comment.csv\", 2)\n",
    "c.get_item(0)"
   ]
  },
  {
   "cell_type": "code",
   "execution_count": 6,
   "metadata": {},
   "outputs": [],
   "source": [
    "class LM():\n",
    "    def __init__(self, gram_count: int, train_corpus: Corpus) -> None:\n",
    "        self.gram_count: int = gram_count\n",
    "        self.train_corpus: Corpus = train_corpus\n",
    "        self.n_grams: dict[set[str], int] = {}\n",
    "    \n",
    "    def find_n_grams(self):\n",
    "        result: dict[tuple[str], int] = {}\n",
    "        for i in range(self.gram_count-1, self.train_corpus.get_len()):\n",
    "            gram: str = self.train_corpus.get_item(i)\n",
    "            if "
   ]
  },
  {
   "cell_type": "code",
   "execution_count": 7,
   "metadata": {},
   "outputs": [
    {
     "data": {
      "text/plain": [
       "<__main__.NGram at 0x7f7b3868b280>"
      ]
     },
     "execution_count": 7,
     "metadata": {},
     "output_type": "execute_result"
    }
   ],
   "source": [
    "NGram(2, [\"1\",\"2\",\"3\"])"
   ]
  },
  {
   "cell_type": "code",
   "execution_count": 2,
   "metadata": {},
   "outputs": [
    {
     "name": "stdout",
     "output_type": "stream",
     "text": [
      "zsh:1: command not found: ipykernel\n"
     ]
    }
   ],
   "source": []
  },
  {
   "cell_type": "code",
   "execution_count": null,
   "metadata": {},
   "outputs": [],
   "source": []
  }
 ],
 "metadata": {
  "kernelspec": {
   "display_name": "nlp",
   "language": "python",
   "name": "python3"
  },
  "language_info": {
   "codemirror_mode": {
    "name": "ipython",
    "version": 3
   },
   "file_extension": ".py",
   "mimetype": "text/x-python",
   "name": "python",
   "nbconvert_exporter": "python",
   "pygments_lexer": "ipython3",
   "version": "3.10.12"
  }
 },
 "nbformat": 4,
 "nbformat_minor": 2
}
