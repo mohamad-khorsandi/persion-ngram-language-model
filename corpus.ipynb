{
 "cells": [
  {
   "cell_type": "code",
   "execution_count": 11,
   "metadata": {},
   "outputs": [],
   "source": [
    "from transformers.models.whisper.english_normalizer import BasicTextNormalizer\n",
    "from hazm import sent_tokenize"
   ]
  },
  {
   "cell_type": "code",
   "execution_count": 28,
   "metadata": {},
   "outputs": [],
   "source": [
    "class Corpus:\n",
    "    def __init__(self, csv_file: str, gram_count: int) -> None:\n",
    "        self._corpus: list[list[str]] = []\n",
    "        self._gram_count: int = gram_count\n",
    "        commnets: list[str]  = open(csv_file).read().split('\"')\n",
    "\n",
    "        for com in commnets:\n",
    "            sen_list: list[str] = []\n",
    "            for sen in sent_tokenize(com):\n",
    "                sen_list.append(sen)\n",
    "            self._corpus.append(sen_list)\n",
    "        \n",
    "        self._corpus = self._normalize()\n",
    "        self._corpus = self._special_token()\n",
    "        self._print()\n",
    "            \n",
    "    def _print(self) -> None:\n",
    "        for commnent in self._corpus:\n",
    "            print(\"================\")\n",
    "            assert type(commnent) == list\n",
    "            for sen in commnent:\n",
    "                print(sen)\n",
    "                print(\"--------\")\n",
    "                assert type(sen) == str\n",
    "\n",
    "    def _normalize(self) -> list[list[str]]:\n",
    "        normalizer = BasicTextNormalizer()\n",
    "        new_c: list[list[str]] = []\n",
    "        \n",
    "        for commnent in self._corpus:\n",
    "            sen_list: list[str] = []\n",
    "            \n",
    "            for sen in commnent:\n",
    "                sen_list.append(normalizer(sen))\n",
    "            new_c.append(sen_list)\n",
    "\n",
    "        return new_c\n",
    "    \n",
    "    def _special_token(self) -> list[list[str]]:\n",
    "        new_c: list[list[str]] = []\n",
    "        start_tokens: str = \"<s>\" * self._gram_count\n",
    "\n",
    "        for commnent in self._corpus:\n",
    "            sen_list: list[str] = []\n",
    "    \n",
    "            for sen in commnent:\n",
    "                sen_list.append(f\"</s>{sen}{start_tokens}\")\n",
    "            new_c.append(sen_list)\n",
    "        return new_c\n",
    "    \n",
    "    def get_item(self, idx: int) -> list[str]:\n",
    "        return self._corpus[idx]"
   ]
  },
  {
   "cell_type": "code",
   "execution_count": 29,
   "metadata": {},
   "outputs": [],
   "source": [
    "# c = Corpus(\"digikala_comment.csv\", 2)"
   ]
  },
  {
   "cell_type": "code",
   "execution_count": null,
   "metadata": {},
   "outputs": [],
   "source": []
  }
 ],
 "metadata": {
  "kernelspec": {
   "display_name": "nlp",
   "language": "python",
   "name": "python3"
  },
  "language_info": {
   "codemirror_mode": {
    "name": "ipython",
    "version": 3
   },
   "file_extension": ".py",
   "mimetype": "text/x-python",
   "name": "python",
   "nbconvert_exporter": "python",
   "pygments_lexer": "ipython3",
   "version": "3.10.12"
  }
 },
 "nbformat": 4,
 "nbformat_minor": 2
}
