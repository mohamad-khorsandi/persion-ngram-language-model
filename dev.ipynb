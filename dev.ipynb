{
 "cells": [
  {
   "cell_type": "code",
   "execution_count": 2,
   "metadata": {},
   "outputs": [
    {
     "name": "stderr",
     "output_type": "stream",
     "text": [
      "None of PyTorch, TensorFlow >= 2.0, or Flax have been found. Models won't be available and only tokenizers, configuration and file/data utilities can be used.\n"
     ]
    }
   ],
   "source": [
    "from corpus import Corpus\n",
    "from lm import LM\n",
    "from sentence import Sentence\n",
    "sen_list = []\n",
    "sen_list.append(Sentence(\"این لپ تاپ سخت افزار خیلی قوی داره و از پس هر کاری به راحتی بر میاد\"))\n",
    "sen_list.append(Sentence(\"این ساعت بسیار زیبا طراحی و ساخته شده\"))\n",
    "sen_list.append(Sentence(\"یک محصول با کیفیت ایرانی که حقیقتا جای حمایت داره\"))\n",
    "sen_list.append(Sentence(\"بوش و ماندگاری خوب هست من خیلی دوستش دارم\"))"
   ]
  },
  {
   "cell_type": "code",
   "execution_count": null,
   "metadata": {},
   "outputs": [],
   "source": [
    "for N in range(1, 4):\n",
    "    corpus = Corpus(\"digikala_comment.csv\", N)\n",
    "    lm:LM = LM(corpus, N)\n",
    "    for i, sen in enumerate(sen_list):\n",
    "        print(f\"{sen.get_txt()}\\n(N: {N}, per: {lm.perplexity(sen)})\\n\")"
   ]
  },
  {
   "cell_type": "code",
   "execution_count": 23,
   "metadata": {},
   "outputs": [
    {
     "data": {
      "text/plain": [
       "'سلام به، همگی'"
      ]
     },
     "execution_count": 23,
     "metadata": {},
     "output_type": "execute_result"
    }
   ],
   "source": [
    "\n",
    "normalizer.normalize(\"سلام به  ، همگی\")"
   ]
  },
  {
   "cell_type": "markdown",
   "metadata": {},
   "source": [
    "## sentence generation"
   ]
  },
  {
   "cell_type": "code",
   "execution_count": 3,
   "metadata": {},
   "outputs": [],
   "source": [
    "beg1 = \"کیفیت محصولات چینی زرین\"\n",
    "beg2 = \"از لحاظ جنس جنس خوبی داره\"\n",
    "beg3 = \"حتما پیشنها میکنم\"\n",
    "beg4 = \"بعد از چند روز استفاده\"\n",
    "\n",
    "c1 = Corpus(\"digikala_comment.csv\", 1)\n",
    "lm1 = LM(c1, 1)\n",
    "\n",
    "c2 = Corpus(\"digikala_comment.csv\", 2)\n",
    "lm2 = LM(c2, 2)\n",
    "\n",
    "c3 = Corpus(\"digikala_comment.csv\", 3)\n",
    "lm3 = LM(c3, 3)"
   ]
  },
  {
   "cell_type": "markdown",
   "metadata": {},
   "source": [
    "#### unigram generatioins"
   ]
  },
  {
   "cell_type": "code",
   "execution_count": 4,
   "metadata": {},
   "outputs": [
    {
     "name": "stdout",
     "output_type": "stream",
     "text": [
      "کیفیت محصولات چینی زرین شاید سنج یه فیلتری مراجعه از فعلا باسلام\n"
     ]
    }
   ],
   "source": [
    "lm1.extened_sen(beg1).print()"
   ]
  },
  {
   "cell_type": "code",
   "execution_count": 5,
   "metadata": {},
   "outputs": [
    {
     "name": "stdout",
     "output_type": "stream",
     "text": [
      "از لحاظ جنس جنس خوبی داره نکته براتون اینکه کامل تنها بلند\n"
     ]
    }
   ],
   "source": [
    "lm1.extened_sen(beg2).print()"
   ]
  },
  {
   "cell_type": "code",
   "execution_count": 6,
   "metadata": {},
   "outputs": [
    {
     "name": "stdout",
     "output_type": "stream",
     "text": [
      "حتما پیشنها میکنم و البته وزنش جای کار دفعه باشه راضی خریدمش\n"
     ]
    }
   ],
   "source": [
    "\n",
    "lm1.extened_sen(beg3).print()"
   ]
  },
  {
   "cell_type": "code",
   "execution_count": 7,
   "metadata": {},
   "outputs": [
    {
     "name": "stdout",
     "output_type": "stream",
     "text": [
      "بعد از چند روز استفاده بخرین بیشتر از دل قبلش خریدم در\n"
     ]
    }
   ],
   "source": [
    "lm1.extened_sen(beg4).print()"
   ]
  },
  {
   "cell_type": "markdown",
   "metadata": {},
   "source": [
    "#### bigram generatioins"
   ]
  },
  {
   "cell_type": "code",
   "execution_count": 9,
   "metadata": {},
   "outputs": [
    {
     "name": "stdout",
     "output_type": "stream",
     "text": [
      "کیفیت محصولات چینی زرین عالیه از این گوشی کار کردم با همین\n"
     ]
    }
   ],
   "source": [
    "lm2.extened_sen(beg1).print()"
   ]
  },
  {
   "cell_type": "code",
   "execution_count": 12,
   "metadata": {},
   "outputs": [
    {
     "name": "stdout",
     "output_type": "stream",
     "text": [
      "از لحاظ جنس جنس خوبی داره و زیر پونصدهزار تومان همچین جعبه\n"
     ]
    }
   ],
   "source": [
    "lm2.extened_sen(beg2).print()"
   ]
  },
  {
   "cell_type": "code",
   "execution_count": 11,
   "metadata": {},
   "outputs": [
    {
     "name": "stdout",
     "output_type": "stream",
     "text": [
      "از لحاظ جنس جنس خوبی داره ولی باید از این محصول خمیر\n"
     ]
    }
   ],
   "source": [
    "lm2.extened_sen(beg3).print()"
   ]
  },
  {
   "cell_type": "code",
   "execution_count": 13,
   "metadata": {},
   "outputs": [
    {
     "name": "stdout",
     "output_type": "stream",
     "text": [
      "از لحاظ جنس جنس خوبی داره به قیمتش می ارزه من از\n"
     ]
    }
   ],
   "source": [
    "lm2.extened_sen(beg4).print()"
   ]
  },
  {
   "cell_type": "markdown",
   "metadata": {},
   "source": [
    "#### trigram generatioins"
   ]
  },
  {
   "cell_type": "code",
   "execution_count": 14,
   "metadata": {},
   "outputs": [
    {
     "name": "stdout",
     "output_type": "stream",
     "text": [
      "کیفیت محصولات چینی زرین عالیه و قیمتش هم عالی به نظر میرسه\n"
     ]
    }
   ],
   "source": [
    "lm3.extened_sen(beg1).print()"
   ]
  },
  {
   "cell_type": "code",
   "execution_count": 15,
   "metadata": {},
   "outputs": [
    {
     "name": "stdout",
     "output_type": "stream",
     "text": [
      "از لحاظ جنس جنس خوبی داره در کل راضی هستم از لحاظ\n"
     ]
    }
   ],
   "source": [
    "lm2.extened_sen(beg2).print()"
   ]
  },
  {
   "cell_type": "code",
   "execution_count": 19,
   "metadata": {},
   "outputs": [
    {
     "name": "stdout",
     "output_type": "stream",
     "text": [
      "حتما پیشنها میکنم ممنون از خرید داره که به کسایی که این\n"
     ]
    }
   ],
   "source": [
    "lm2.extened_sen(beg3).print()"
   ]
  },
  {
   "cell_type": "code",
   "execution_count": 17,
   "metadata": {},
   "outputs": [
    {
     "name": "stdout",
     "output_type": "stream",
     "text": [
      "بعد از چند روز استفاده کردم هم دقت کنید که در مورد\n"
     ]
    }
   ],
   "source": [
    "lm2.extened_sen(beg4).print()"
   ]
  },
  {
   "cell_type": "code",
   "execution_count": null,
   "metadata": {},
   "outputs": [],
   "source": []
  }
 ],
 "metadata": {
  "kernelspec": {
   "display_name": "nlp",
   "language": "python",
   "name": "python3"
  },
  "language_info": {
   "codemirror_mode": {
    "name": "ipython",
    "version": 3
   },
   "file_extension": ".py",
   "mimetype": "text/x-python",
   "name": "python",
   "nbconvert_exporter": "python",
   "pygments_lexer": "ipython3",
   "version": "3.10.12"
  }
 },
 "nbformat": 4,
 "nbformat_minor": 2
}
